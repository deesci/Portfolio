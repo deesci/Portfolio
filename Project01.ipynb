{
 "cells": [
  {
   "cell_type": "markdown",
   "metadata": {},
   "source": [
    "P02 D Panchal\n",
    "\n",
    "---\n",
    "- Python using List of List, without help of NumPy or Pandas\n",
    "---\n",
    "# Which type of mobile app is more profitable - development insight\n",
    "\n",
    "### Based on data from existing apps on Apple store and Google Store\n",
    "\n",
    "The future apps to be developed can be from a wide range of types. These might be similar in terms of development cost. However there are varying degree of return based on usage, because the main source of revenue comes from in-app ads.\n",
    "\n",
    "Overall sucess would therefore depend on decision about type of apps. What if this decision was informed by data of existing apps. From analysing data about currently existing apps, we will try to gain the key insight that directly helps us in choosing the categories of apps that will have better chances of success. \n",
    "\n",
    "Our **goal** in this project is to come up with *recommended set of parameters* for future development of apps, from the info of existing apps.\n",
    "\n",
    "\n",
    "\n",
    "\n",
    "\n"
   ]
  },
  {
   "cell_type": "code",
   "execution_count": 2,
   "metadata": {
    "collapsed": true
   },
   "outputs": [],
   "source": [
    "def explore_data(dataset, start, end, rows_and_columns=False):\n",
    "    dataset_slice = dataset[start:end]    \n",
    "    for row in dataset_slice:\n",
    "        print(row)\n",
    "        print('\\n') # adds a new (empty) line after each row\n",
    "\n",
    "    if rows_and_columns:\n",
    "        print('Number of rows:', len(dataset))\n",
    "        print('Number of columns:', len(dataset[0]))"
   ]
  },
  {
   "cell_type": "markdown",
   "metadata": {},
   "source": [
    "### Reading two datasets Apple and Google"
   ]
  },
  {
   "cell_type": "code",
   "execution_count": 3,
   "metadata": {
    "collapsed": true
   },
   "outputs": [],
   "source": [
    "open_file1 = open('AppleStore.csv')\n",
    "from csv import reader\n",
    "read_file1 = reader(open_file1)\n",
    "apps_data1 = list(read_file1)\n",
    "\n",
    "open_file2 = open('googleplaystore.csv')\n",
    "read_file2 = reader(open_file2)\n",
    "apps_data2 = list(read_file2)\n"
   ]
  },
  {
   "cell_type": "markdown",
   "metadata": {},
   "source": [
    "Below is example of a row, it shows `data type` of info contained in each column."
   ]
  },
  {
   "cell_type": "code",
   "execution_count": 4,
   "metadata": {},
   "outputs": [
    {
     "name": "stdout",
     "output_type": "stream",
     "text": [
      "['Life Made WI-Fi Touchscreen Photo Frame', '1.9', '19', '3.0M', '1,000+', 'Free', '0', 'Everyone', '', 'February 11, 2018', '1.0.19', '4.0 and up']\n"
     ]
    }
   ],
   "source": [
    "#explore_data(apps_data1,0,2)\n",
    "#explore_data(apps_data2,0,2)\n",
    "print(apps_data2[10473])\n",
    "\n",
    "\n"
   ]
  },
  {
   "cell_type": "markdown",
   "metadata": {},
   "source": [
    "    ['id', 'track_name', 'size_bytes', 'currency', 'price', 'rating_count_tot', 'rating_count_ver', 'user_rating', 'user_rating_ver', 'ver', 'cont_rating', 'prime_genre', 'sup_devices.num', 'ipadSc_urls.num', 'lang.num', 'vpp_lic']\n",
    "    ['284882215', 'Facebook', '389879808', 'USD', '0.0', '2974676', '212', '3.5', '3.5', '95.0', '4+', 'Social Networking', '37', '1', '29', '1']\n",
    "    ['App', 'Category', 'Rating', 'Reviews', 'Size', 'Installs', 'Type', 'Price', 'Content Rating', 'Genres', 'Last Updated', 'Current Ver', 'Android Ver']\n",
    "    ['Photo Editor & Candy Camera & Grid & ScrapBook', 'ART_AND_DESIGN', '4.1', '159', '19M', '10,000+', 'Free', '0', 'Everyone', 'Art & Design', 'January 7, 2018', '1.0.0', '4.0.3 and up']\n"
   ]
  },
  {
   "cell_type": "markdown",
   "metadata": {},
   "source": [
    "### Potential problems with Google data set\n",
    "\n",
    "There could be duplicate entries in this data. We need to check for **duplicates**. From duplicates, we should keep the one with largest number of reviews, as it will be most latest entry.\n",
    "\n",
    "In below we found there are 1181 duplicate entries."
   ]
  },
  {
   "cell_type": "code",
   "execution_count": 5,
   "metadata": {},
   "outputs": [
    {
     "name": "stdout",
     "output_type": "stream",
     "text": [
      "Number of duplicate apps:  1181\n",
      "\n",
      "\n",
      "Examples of duplicate apps ['Quick PDF Scanner + OCR FREE', 'Box', 'Google My Business', 'ZOOM Cloud Meetings', 'join.me - Simple Meetings', 'Box', 'Zenefits', 'Google Ads', 'Google My Business', 'Slack']\n"
     ]
    }
   ],
   "source": [
    "duplicate_apps = []\n",
    "unique_apps = []\n",
    "\n",
    "for app in apps_data2[1:]:\n",
    "    name = app[0]\n",
    "    if name in unique_apps:\n",
    "        duplicate_apps.append(name)\n",
    "    else:\n",
    "        unique_apps.append(name)\n",
    "print('Number of duplicate apps: ', len(duplicate_apps))\n",
    "print('\\n')\n",
    "print('Examples of duplicate apps', duplicate_apps[:10])\n"
   ]
  },
  {
   "cell_type": "code",
   "execution_count": 6,
   "metadata": {},
   "outputs": [
    {
     "name": "stdout",
     "output_type": "stream",
     "text": [
      "Expected length 9660\n"
     ]
    }
   ],
   "source": [
    "print('Expected length', len(apps_data2)-1181-1)\n"
   ]
  },
  {
   "cell_type": "markdown",
   "metadata": {},
   "source": [
    "### Highest rating for each app\n",
    "Here in below we are making a list of maximum ratings of each app name. This wil be used later to filter out the duplicates with less than max ratings among apps of same name.\n",
    "\n",
    "The data contains **M** instead of `000,000` which we need to correct."
   ]
  },
  {
   "cell_type": "code",
   "execution_count": 7,
   "metadata": {},
   "outputs": [
    {
     "name": "stdout",
     "output_type": "stream",
     "text": [
      "9660\n"
     ]
    }
   ],
   "source": [
    "reviews_max={}\n",
    "\n",
    "for app in apps_data2[1:]:\n",
    "    name = app[0]\n",
    "    mill=[]\n",
    "    mill = app[3]\n",
    "    # replace M with zeros \n",
    "    if 'M' in mill:\n",
    "        mill.replace('M', '000000')\n",
    "    n_reviews = float(mill[0])\n",
    "    \n",
    "    if name in reviews_max and reviews_max[name] < n_reviews:\n",
    "            reviews_max[name] = n_reviews\n",
    "    elif name not in reviews_max:\n",
    "        reviews_max[name] = n_reviews\n",
    "        \n",
    "print(len(reviews_max))\n",
    "\n",
    "\n",
    "        \n",
    "\n",
    "        "
   ]
  },
  {
   "cell_type": "markdown",
   "metadata": {},
   "source": [
    "In below code, we the aim is to run through full list of apps, compare their rating with the maximum rating we have already got in above steps."
   ]
  },
  {
   "cell_type": "code",
   "execution_count": 8,
   "metadata": {},
   "outputs": [],
   "source": [
    "android_clean = []\n",
    "already_added = []\n",
    "\n",
    "for app in apps_data2[1:]:\n",
    "    name = app[0]\n",
    "    mill=[]\n",
    "    mill = app[3]\n",
    "    if 'M' in mill:\n",
    "        mill.replace('M', '000000')\n",
    "    n_reviews = float(mill[0])\n",
    "    \n",
    "    if n_reviews >= reviews_max[name] and name not in already_added:\n",
    "        android_clean.append(app)\n",
    "        already_added.append(name)\n",
    "        \n",
    "    "
   ]
  },
  {
   "cell_type": "markdown",
   "metadata": {},
   "source": [
    "After removing the duplicates and retaining one with highest ratings, now lets inspect cleaned table below."
   ]
  },
  {
   "cell_type": "code",
   "execution_count": 9,
   "metadata": {},
   "outputs": [
    {
     "name": "stdout",
     "output_type": "stream",
     "text": [
      "['Photo Editor & Candy Camera & Grid & ScrapBook', 'ART_AND_DESIGN', '4.1', '159', '19M', '10,000+', 'Free', '0', 'Everyone', 'Art & Design', 'January 7, 2018', '1.0.0', '4.0.3 and up']\n",
      "\n",
      "\n",
      "['Coloring book moana', 'ART_AND_DESIGN', '3.9', '967', '14M', '500,000+', 'Free', '0', 'Everyone', 'Art & Design;Pretend Play', 'January 15, 2018', '2.0.0', '4.0.3 and up']\n",
      "\n",
      "\n"
     ]
    },
    {
     "data": {
      "text/plain": [
       "9660"
      ]
     },
     "execution_count": 9,
     "metadata": {},
     "output_type": "execute_result"
    }
   ],
   "source": [
    "explore_data(android_clean,0,2)\n",
    "len(android_clean)\n"
   ]
  },
  {
   "cell_type": "markdown",
   "metadata": {},
   "source": [
    "### Function to find app name is in English\n",
    "In order to focus on applications in English, we need to spot the *non-English characters* and filter those rows out of our data set.\n",
    "\n",
    "We are going to use `ord` to help find if it is non-english."
   ]
  },
  {
   "cell_type": "code",
   "execution_count": 10,
   "metadata": {},
   "outputs": [
    {
     "name": "stdout",
     "output_type": "stream",
     "text": [
      "False\n",
      "True\n"
     ]
    }
   ],
   "source": [
    "def check_english(any_name):\n",
    "    check_value = 0\n",
    "    # this function returns True when any 3+ non-english character is found.\n",
    "    for letter in any_name:\n",
    "        letter_value = ord(letter)\n",
    "        if letter_value > 127 :\n",
    "            check_value += 1\n",
    "    if check_value <= 3:\n",
    "        return True\n",
    "    else:\n",
    "        return False\n",
    "\n",
    "print(check_english('爱奇艺PPS -《欢乐颂2》电视剧热播'))\n",
    "print(check_english('Docs To Go™ Free Office Suite'))\n",
    "            \n",
    "    "
   ]
  },
  {
   "cell_type": "markdown",
   "metadata": {},
   "source": [
    "### English only apps\n",
    "\n",
    "Now that we have got a function ready to test whether a name is English, upto three special characters allowed, or non-English; let us try to reduce both data sets to English only apps."
   ]
  },
  {
   "cell_type": "code",
   "execution_count": 11,
   "metadata": {},
   "outputs": [
    {
     "name": "stdout",
     "output_type": "stream",
     "text": [
      "9615\n",
      "6183\n"
     ]
    }
   ],
   "source": [
    "english_app2 = []\n",
    "\n",
    "for app in android_clean:\n",
    "    name = app[0]\n",
    "    is_english = check_english(name)\n",
    "    if is_english :\n",
    "        english_app2.append(app)\n",
    "\n",
    "print(len(english_app2))\n",
    "\n",
    "\n",
    "    \n",
    "english_app1 = []\n",
    "\n",
    "for app in apps_data1[1:]:\n",
    "    name = app[1]\n",
    "    is_english = check_english(name)\n",
    "    if is_english :\n",
    "        english_app1.append(app)\n",
    "\n",
    "print(len(english_app1))\n",
    "\n"
   ]
  },
  {
   "cell_type": "markdown",
   "metadata": {},
   "source": [
    "### Filter Free Apps\n",
    "Now we try to filter out the free apps in below."
   ]
  },
  {
   "cell_type": "code",
   "execution_count": 12,
   "metadata": {},
   "outputs": [
    {
     "name": "stdout",
     "output_type": "stream",
     "text": [
      "7198\n",
      "3222\n",
      "10842\n",
      "8862\n"
     ]
    }
   ],
   "source": [
    "\n",
    "\n",
    "\n",
    "free_app2 = []\n",
    "\n",
    "for app in english_app2:\n",
    "    price = app[7]\n",
    "    if price == '0':\n",
    "        free_app2.append(app)\n",
    "        \n",
    "free_app1 = []\n",
    "\n",
    "for app in english_app1:\n",
    "    price = app[4]\n",
    "    if price == '0.0':\n",
    "        free_app1.append(app)  \n",
    "\n",
    "print(len(apps_data1))\n",
    "print(len(free_app1))\n",
    "print(len(apps_data2))\n",
    "print(len(free_app2))\n",
    "\n",
    "        "
   ]
  },
  {
   "cell_type": "markdown",
   "metadata": {
    "collapsed": true
   },
   "source": [
    "### Frequency\n",
    "Now we need to create frequency table."
   ]
  },
  {
   "cell_type": "code",
   "execution_count": 13,
   "metadata": {
    "collapsed": true
   },
   "outputs": [],
   "source": [
    "def frequency_table(data_set,column_index):\n",
    "    frequency = {}\n",
    "    number_ofvalues = 0\n",
    "    # iterate over data set and add values to dictionary\n",
    "    for row in data_set:\n",
    "        value = row[column_index]\n",
    "        number_ofvalues+=1\n",
    "        if value in frequency:\n",
    "            frequency[value]+=1\n",
    "        else:\n",
    "            frequency[value]=1\n",
    "    \n",
    "    for freq in frequency:\n",
    "        frequency[freq] = 100*(frequency[freq]/number_ofvalues)\n",
    "    return frequency\n",
    "\n",
    "    "
   ]
  },
  {
   "cell_type": "markdown",
   "metadata": {},
   "source": [
    "Sorted display will be useful in analysing the results."
   ]
  },
  {
   "cell_type": "code",
   "execution_count": 14,
   "metadata": {
    "collapsed": true
   },
   "outputs": [],
   "source": [
    "def display_table(data_set, column_index):\n",
    "    table = frequency_table(data_set, column_index)\n",
    "    table_display = []\n",
    "    for key in table:\n",
    "        key_val_as_tuple = (table[key], key)\n",
    "        table_display.append(key_val_as_tuple)\n",
    "\n",
    "    table_sorted = sorted(table_display, reverse = True)\n",
    "    for entry in table_sorted:\n",
    "        print(entry[1], ':', entry[0])\n",
    "    "
   ]
  },
  {
   "cell_type": "markdown",
   "metadata": {},
   "source": [
    "### Prime Genre of Apple app\n",
    "From sorted result, we found **Games** is the top Prime genre of apple apps, *accounting for more than half of all apps*. This is followed by Entertainment apps. Social, shopping, sports and music are less compared to Entertainment apps.  "
   ]
  },
  {
   "cell_type": "code",
   "execution_count": 15,
   "metadata": {},
   "outputs": [
    {
     "name": "stdout",
     "output_type": "stream",
     "text": [
      "Games : 58.16263190564867\n",
      "Entertainment : 7.883302296710118\n",
      "Photo & Video : 4.9658597144630665\n",
      "Education : 3.662321539416512\n",
      "Social Networking : 3.2898820608317814\n",
      "Shopping : 2.60707635009311\n",
      "Utilities : 2.5139664804469275\n",
      "Sports : 2.1415270018621975\n",
      "Music : 2.0484171322160147\n",
      "Health & Fitness : 2.0173805090006205\n",
      "Productivity : 1.7380509000620732\n",
      "Lifestyle : 1.5828677839851024\n",
      "News : 1.3345747982619491\n",
      "Travel : 1.2414649286157666\n",
      "Finance : 1.1173184357541899\n",
      "Weather : 0.8690254500310366\n",
      "Food & Drink : 0.8069522036002483\n",
      "Reference : 0.5586592178770949\n",
      "Business : 0.5276225946617008\n",
      "Book : 0.4345127250155183\n",
      "Navigation : 0.186219739292365\n",
      "Medical : 0.186219739292365\n",
      "Catalogs : 0.12414649286157665\n",
      "None\n"
     ]
    }
   ],
   "source": [
    "print(display_table(free_app1,-5))"
   ]
  },
  {
   "cell_type": "markdown",
   "metadata": {},
   "source": [
    "### Google App\n",
    "Category of google play apps. Highest percentage is **Family**, followed by Games. *Games are just half of Family*. Tools and games are nearly the same. \n",
    "\n",
    "*Unlike Apple*, in Google there is gradual reduction in percentage, and there is no category that occupies nearly half of share. "
   ]
  },
  {
   "cell_type": "code",
   "execution_count": 16,
   "metadata": {},
   "outputs": [
    {
     "name": "stdout",
     "output_type": "stream",
     "text": [
      "FAMILY : 18.472128187767996\n",
      "GAME : 9.851049424509139\n",
      "TOOLS : 8.451816745655607\n",
      "BUSINESS : 4.5926427443015125\n",
      "LIFESTYLE : 3.9043105393816293\n",
      "PRODUCTIVITY : 3.8930264048747465\n",
      "FINANCE : 3.7011961182577298\n",
      "MEDICAL : 3.5206499661475967\n",
      "SPORTS : 3.39652448657188\n",
      "PERSONALIZATION : 3.3175355450236967\n",
      "COMMUNICATION : 3.238546603475513\n",
      "HEALTH_AND_FITNESS : 3.080568720379147\n",
      "PHOTOGRAPHY : 2.945159106296547\n",
      "NEWS_AND_MAGAZINES : 2.798465357707064\n",
      "SOCIAL : 2.663055743624464\n",
      "TRAVEL_AND_LOCAL : 2.335815842924848\n",
      "SHOPPING : 2.2455427668697814\n",
      "BOOKS_AND_REFERENCE : 2.143985556307831\n",
      "DATING : 1.8618821936357481\n",
      "VIDEO_PLAYERS : 1.782893252087565\n",
      "MAPS_AND_NAVIGATION : 1.399232678853532\n",
      "EDUCATION : 1.2863913337846988\n",
      "FOOD_AND_DRINK : 1.2412547957571656\n",
      "ENTERTAINMENT : 1.128413450688332\n",
      "LIBRARIES_AND_DEMO : 0.9365831640713158\n",
      "AUTO_AND_VEHICLES : 0.9252990295644324\n",
      "HOUSE_AND_HOME : 0.8237418190024826\n",
      "WEATHER : 0.8011735499887158\n",
      "EVENTS : 0.7109004739336493\n",
      "ART_AND_DESIGN : 0.6770480704129994\n",
      "PARENTING : 0.6544798013992327\n",
      "COMICS : 0.6206273978785828\n",
      "BEAUTY : 0.598059128864816\n",
      "None\n"
     ]
    }
   ],
   "source": [
    "print(display_table(free_app2,1))"
   ]
  },
  {
   "cell_type": "code",
   "execution_count": 17,
   "metadata": {},
   "outputs": [
    {
     "name": "stdout",
     "output_type": "stream",
     "text": [
      "Tools : 8.440532611148726\n",
      "Entertainment : 6.070864364703228\n",
      "Education : 5.348679756262695\n",
      "Business : 4.5926427443015125\n",
      "Productivity : 3.8930264048747465\n",
      "Lifestyle : 3.8930264048747465\n",
      "Finance : 3.7011961182577298\n",
      "Medical : 3.5206499661475967\n",
      "Sports : 3.4642292936131795\n",
      "Personalization : 3.3175355450236967\n",
      "Communication : 3.238546603475513\n",
      "Action : 3.1031369893929135\n",
      "Health & Fitness : 3.080568720379147\n",
      "Photography : 2.945159106296547\n",
      "News & Magazines : 2.798465357707064\n",
      "Social : 2.663055743624464\n",
      "Travel & Local : 2.324531708417964\n",
      "Shopping : 2.2455427668697814\n",
      "Books & Reference : 2.143985556307831\n",
      "Simulation : 2.0424283457458814\n",
      "Dating : 1.8618821936357481\n",
      "Arcade : 1.8505980591288649\n",
      "Video Players & Editors : 1.7716091175806816\n",
      "Casual : 1.7490408485669149\n",
      "Maps & Navigation : 1.399232678853532\n",
      "Food & Drink : 1.2412547957571656\n",
      "Puzzle : 1.128413450688332\n",
      "Racing : 0.9930038366057323\n",
      "Role Playing : 0.9365831640713158\n",
      "Libraries & Demo : 0.9365831640713158\n",
      "Auto & Vehicles : 0.9252990295644324\n",
      "Strategy : 0.9140148950575491\n",
      "House & Home : 0.8237418190024826\n",
      "Weather : 0.8011735499887158\n",
      "Events : 0.7109004739336493\n",
      "Adventure : 0.6770480704129994\n",
      "Comics : 0.6093432633716994\n",
      "Beauty : 0.598059128864816\n",
      "Art & Design : 0.598059128864816\n",
      "Parenting : 0.49650191830286616\n",
      "Card : 0.4400812457684496\n",
      "Casino : 0.4287971112615662\n",
      "Trivia : 0.41751297675468296\n",
      "Educational;Education : 0.3949447077409162\n",
      "Educational : 0.3723764387271496\n",
      "Board : 0.3723764387271496\n",
      "Education;Education : 0.3385240352064997\n",
      "Word : 0.2595350936583164\n",
      "Casual;Pretend Play : 0.23696682464454977\n",
      "Music : 0.2031144211238998\n",
      "Puzzle;Brain Games : 0.18054615211013314\n",
      "Racing;Action & Adventure : 0.16926201760324985\n",
      "Entertainment;Music & Video : 0.16926201760324985\n",
      "Casual;Brain Games : 0.13540961408259986\n",
      "Casual;Action & Adventure : 0.13540961408259986\n",
      "Arcade;Action & Adventure : 0.12412547957571654\n",
      "Action;Action & Adventure : 0.1015572105619499\n",
      "Educational;Pretend Play : 0.09027307605506657\n",
      "Board;Brain Games : 0.09027307605506657\n",
      "Simulation;Action & Adventure : 0.07898894154818326\n",
      "Parenting;Education : 0.07898894154818326\n",
      "Entertainment;Brain Games : 0.07898894154818326\n",
      "Parenting;Music & Video : 0.06770480704129993\n",
      "Educational;Brain Games : 0.06770480704129993\n",
      "Casual;Creativity : 0.06770480704129993\n",
      "Art & Design;Creativity : 0.06770480704129993\n",
      "Education;Pretend Play : 0.056420672534416606\n",
      "Role Playing;Pretend Play : 0.045136538027533285\n",
      "Education;Creativity : 0.045136538027533285\n",
      "Role Playing;Action & Adventure : 0.033852403520649964\n",
      "Puzzle;Action & Adventure : 0.033852403520649964\n",
      "Entertainment;Creativity : 0.033852403520649964\n",
      "Entertainment;Action & Adventure : 0.033852403520649964\n",
      "Educational;Creativity : 0.033852403520649964\n",
      "Educational;Action & Adventure : 0.033852403520649964\n",
      "Education;Music & Video : 0.033852403520649964\n",
      "Education;Brain Games : 0.033852403520649964\n",
      "Education;Action & Adventure : 0.033852403520649964\n",
      "Adventure;Action & Adventure : 0.033852403520649964\n",
      "Video Players & Editors;Music & Video : 0.022568269013766643\n",
      "Sports;Action & Adventure : 0.022568269013766643\n",
      "Simulation;Pretend Play : 0.022568269013766643\n",
      "Puzzle;Creativity : 0.022568269013766643\n",
      "Music;Music & Video : 0.022568269013766643\n",
      "Entertainment;Pretend Play : 0.022568269013766643\n",
      "Casual;Education : 0.022568269013766643\n",
      "Board;Action & Adventure : 0.022568269013766643\n",
      "Video Players & Editors;Creativity : 0.011284134506883321\n",
      "Trivia;Education : 0.011284134506883321\n",
      "Travel & Local;Action & Adventure : 0.011284134506883321\n",
      "Tools;Education : 0.011284134506883321\n",
      "Strategy;Education : 0.011284134506883321\n",
      "Strategy;Creativity : 0.011284134506883321\n",
      "Strategy;Action & Adventure : 0.011284134506883321\n",
      "Simulation;Education : 0.011284134506883321\n",
      "Role Playing;Brain Games : 0.011284134506883321\n",
      "Racing;Pretend Play : 0.011284134506883321\n",
      "Puzzle;Education : 0.011284134506883321\n",
      "Parenting;Brain Games : 0.011284134506883321\n",
      "Music & Audio;Music & Video : 0.011284134506883321\n",
      "Lifestyle;Pretend Play : 0.011284134506883321\n",
      "Lifestyle;Education : 0.011284134506883321\n",
      "Health & Fitness;Education : 0.011284134506883321\n",
      "Health & Fitness;Action & Adventure : 0.011284134506883321\n",
      "Entertainment;Education : 0.011284134506883321\n",
      "Communication;Creativity : 0.011284134506883321\n",
      "Comics;Creativity : 0.011284134506883321\n",
      "Casual;Music & Video : 0.011284134506883321\n",
      "Card;Brain Games : 0.011284134506883321\n",
      "Card;Action & Adventure : 0.011284134506883321\n",
      "Books & Reference;Education : 0.011284134506883321\n",
      "Art & Design;Pretend Play : 0.011284134506883321\n",
      "Art & Design;Action & Adventure : 0.011284134506883321\n",
      "Arcade;Pretend Play : 0.011284134506883321\n",
      "Adventure;Education : 0.011284134506883321\n",
      "None\n"
     ]
    }
   ],
   "source": [
    "print(display_table(free_app2,-4))"
   ]
  },
  {
   "cell_type": "code",
   "execution_count": 18,
   "metadata": {},
   "outputs": [
    {
     "name": "stdout",
     "output_type": "stream",
     "text": [
      "[['id', 'track_name', 'size_bytes', 'currency', 'price', 'rating_count_tot', 'rating_count_ver', 'user_rating', 'user_rating_ver', 'ver', 'cont_rating', 'prime_genre', 'sup_devices.num', 'ipadSc_urls.num', 'lang.num', 'vpp_lic'], ['284882215', 'Facebook', '389879808', 'USD', '0.0', '2974676', '212', '3.5', '3.5', '95.0', '4+', 'Social Networking', '37', '1', '29', '1']]\n",
      "[['App', 'Category', 'Rating', 'Reviews', 'Size', 'Installs', 'Type', 'Price', 'Content Rating', 'Genres', 'Last Updated', 'Current Ver', 'Android Ver'], ['Photo Editor & Candy Camera & Grid & ScrapBook', 'ART_AND_DESIGN', '4.1', '159', '19M', '10,000+', 'Free', '0', 'Everyone', 'Art & Design', 'January 7, 2018', '1.0.0', '4.0.3 and up']]\n"
     ]
    }
   ],
   "source": [
    "print(apps_data1[0:2])\n",
    "print(apps_data2[0:2])"
   ]
  },
  {
   "cell_type": "markdown",
   "metadata": {
    "collapsed": true
   },
   "source": [
    "### Average number of application for each genre\n",
    "\n",
    "Let us evaluate the average number of apps per genre."
   ]
  },
  {
   "cell_type": "code",
   "execution_count": 19,
   "metadata": {
    "collapsed": true
   },
   "outputs": [],
   "source": [
    "def abs_frequency_table(data_set,column_index):\n",
    "    frequency = {}\n",
    "    number_ofvalues = 0\n",
    "    for row in data_set:\n",
    "        value = row[column_index]\n",
    "        number_ofvalues+=1\n",
    "        if value in frequency:\n",
    "            frequency[value]+=1\n",
    "        else:\n",
    "            frequency[value]=1\n",
    "    \n",
    "    return frequency"
   ]
  },
  {
   "cell_type": "markdown",
   "metadata": {},
   "source": [
    "## Most recommendable app profile for apple\n",
    "These are the average user ratings per genre for Apple apps. We can see the **hightest** ones are *Social networking* and *Navigation*. "
   ]
  },
  {
   "cell_type": "code",
   "execution_count": 20,
   "metadata": {},
   "outputs": [
    {
     "name": "stdout",
     "output_type": "stream",
     "text": [
      "Social Networking : 71548.34905660378\n",
      "Food & Drink : 33333.92307692308\n",
      "Lifestyle : 16485.764705882353\n",
      "Productivity : 21028.410714285714\n",
      "Finance : 31467.944444444445\n",
      "Games : 22788.6696905016\n",
      "Navigation : 86090.33333333333\n",
      "Travel : 28243.8\n",
      "Utilities : 18684.456790123455\n",
      "Health & Fitness : 23298.015384615384\n",
      "Weather : 52279.892857142855\n",
      "Reference : 74942.11111111111\n",
      "Catalogs : 4004.0\n",
      "Business : 7491.117647058823\n",
      "Medical : 612.0\n",
      "Sports : 23008.898550724636\n",
      "Shopping : 26919.690476190477\n",
      "Book : 39758.5\n",
      "Photo & Video : 28441.54375\n",
      "Entertainment : 14029.830708661417\n",
      "News : 21248.023255813954\n",
      "Education : 7003.983050847458\n",
      "Music : 57326.530303030304\n"
     ]
    }
   ],
   "source": [
    "prime_genre_apple = {}\n",
    "prime_genre_apple = abs_frequency_table(free_app1,-5)\n",
    "\n",
    "for genre in prime_genre_apple:\n",
    "    total = 0\n",
    "    len_genre = 0\n",
    "    for row in free_app1:\n",
    "        genre_app = row[-5]\n",
    "        if genre_app == genre:\n",
    "            user_rating = float(row[5])\n",
    "            total+=user_rating\n",
    "            len_genre+=1\n",
    "    avg_user_rating = total/len_genre\n",
    "    print(genre, ':', avg_user_rating)\n",
    "    "
   ]
  },
  {
   "cell_type": "markdown",
   "metadata": {},
   "source": [
    "## ...for Google\n",
    "From below, **Entertainment** would be recommended for Google play apps. Because it is among the top three, others being Social and Communication apps. "
   ]
  },
  {
   "cell_type": "code",
   "execution_count": 23,
   "metadata": {},
   "outputs": [
    {
     "name": "stdout",
     "output_type": "stream",
     "text": [
      "COMICS : 817657.2727272727\n",
      "SOCIAL : 23253652.127118643\n",
      "TOOLS : 10682301.033377837\n",
      "NEWS_AND_MAGAZINES : 9549178.467741935\n",
      "PERSONALIZATION : 5201482.6122448975\n",
      "LIFESTYLE : 1437816.2687861272\n",
      "SHOPPING : 7036877.311557789\n",
      "MAPS_AND_NAVIGATION : 4056941.7741935486\n",
      "PHOTOGRAPHY : 17805627.643678162\n",
      "WEATHER : 5074486.197183099\n",
      "COMMUNICATION : 38456119.167247385\n",
      "HOUSE_AND_HOME : 1331540.5616438356\n",
      "HEALTH_AND_FITNESS : 4188821.9853479853\n",
      "MEDICAL : 120616.48717948717\n",
      "VIDEO_PLAYERS : 24852732.40506329\n",
      "PARENTING : 542603.6206896552\n",
      "FOOD_AND_DRINK : 1924897.7363636363\n",
      "BOOKS_AND_REFERENCE : 8767811.894736841\n",
      "LIBRARIES_AND_DEMO : 638503.734939759\n",
      "ENTERTAINMENT : 21134600.0\n",
      "ART_AND_DESIGN : 1905351.6666666667\n",
      "DATING : 854028.8303030303\n",
      "TRAVEL_AND_LOCAL : 13984077.710144928\n",
      "FINANCE : 1387692.475609756\n",
      "SPORTS : 3638640.1428571427\n",
      "GAME : 15896757.674684994\n",
      "PRODUCTIVITY : 16787331.344927534\n",
      "EDUCATION : 3082017.543859649\n",
      "EVENTS : 253542.22222222222\n",
      "AUTO_AND_VEHICLES : 647317.8170731707\n",
      "BEAUTY : 513151.88679245283\n",
      "BUSINESS : 1712290.1474201474\n",
      "FAMILY : 2691445.137446549\n"
     ]
    }
   ],
   "source": [
    "category_2 = {}\n",
    "category_2 = abs_frequency_table(free_app2,1)\n",
    "\n",
    "for category in category_2:\n",
    "    total = 0\n",
    "    len_category = 0\n",
    "    for row in free_app2:\n",
    "        category_app = row[1]\n",
    "        if category_app == category:\n",
    "            installs = row[5]\n",
    "            installs = installs.replace('+','')\n",
    "            install = installs.replace(',','')\n",
    "            num_install = float(install)\n",
    "            total+=num_install\n",
    "            len_category+=1\n",
    "    avg_installs = total/len_category\n",
    "    print(category, ':', avg_installs)"
   ]
  }
 ],
 "metadata": {
  "kernelspec": {
   "display_name": "Python 3",
   "language": "python",
   "name": "python3"
  },
  "language_info": {
   "codemirror_mode": {
    "name": "ipython",
    "version": 3
   },
   "file_extension": ".py",
   "mimetype": "text/x-python",
   "name": "python",
   "nbconvert_exporter": "python",
   "pygments_lexer": "ipython3",
   "version": "3.7.6"
  }
 },
 "nbformat": 4,
 "nbformat_minor": 2
}
